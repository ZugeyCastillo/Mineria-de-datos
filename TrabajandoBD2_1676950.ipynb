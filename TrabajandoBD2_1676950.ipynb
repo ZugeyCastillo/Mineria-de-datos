{
 "cells": [
  {
   "cell_type": "code",
   "execution_count": 93,
   "metadata": {},
   "outputs": [],
   "source": [
    "import pandas as pd\n",
    "import numpy as np\n",
    "import matplotlib as plt\n",
    "import matplotlib.pyplot as pltp\n",
    "import seaborn as sns"
   ]
  },
  {
   "cell_type": "code",
   "execution_count": 94,
   "metadata": {},
   "outputs": [
    {
     "data": {
      "text/html": [
       "<div>\n",
       "<style scoped>\n",
       "    .dataframe tbody tr th:only-of-type {\n",
       "        vertical-align: middle;\n",
       "    }\n",
       "\n",
       "    .dataframe tbody tr th {\n",
       "        vertical-align: top;\n",
       "    }\n",
       "\n",
       "    .dataframe thead th {\n",
       "        text-align: right;\n",
       "    }\n",
       "</style>\n",
       "<table border=\"1\" class=\"dataframe\">\n",
       "  <thead>\n",
       "    <tr style=\"text-align: right;\">\n",
       "      <th></th>\n",
       "      <th>Id</th>\n",
       "      <th>Nombre</th>\n",
       "      <th>Correo</th>\n",
       "      <th>Telefono</th>\n",
       "      <th>Direccion</th>\n",
       "      <th>Monto</th>\n",
       "      <th>Estatus</th>\n",
       "      <th>Puntos</th>\n",
       "    </tr>\n",
       "  </thead>\n",
       "  <tbody>\n",
       "    <tr>\n",
       "      <th>0</th>\n",
       "      <td>0</td>\n",
       "      <td>Zugey</td>\n",
       "      <td>zugey@correo.com</td>\n",
       "      <td>8114651212</td>\n",
       "      <td>Puebla 220</td>\n",
       "      <td>1000.00</td>\n",
       "      <td>True</td>\n",
       "      <td>23</td>\n",
       "    </tr>\n",
       "    <tr>\n",
       "      <th>1</th>\n",
       "      <td>1</td>\n",
       "      <td>Pety</td>\n",
       "      <td>pety@correo.es</td>\n",
       "      <td>8115236096</td>\n",
       "      <td>Titanio 1000</td>\n",
       "      <td>1250.00</td>\n",
       "      <td>False</td>\n",
       "      <td>56</td>\n",
       "    </tr>\n",
       "    <tr>\n",
       "      <th>2</th>\n",
       "      <td>2</td>\n",
       "      <td>Jaciel</td>\n",
       "      <td>jaciel@correo.com</td>\n",
       "      <td>8110461065</td>\n",
       "      <td>Argon 105</td>\n",
       "      <td>2000.00</td>\n",
       "      <td>True</td>\n",
       "      <td>32</td>\n",
       "    </tr>\n",
       "    <tr>\n",
       "      <th>3</th>\n",
       "      <td>3</td>\n",
       "      <td>Aideth</td>\n",
       "      <td>daisy@outlook.com</td>\n",
       "      <td>8115236580</td>\n",
       "      <td>Salinas 551</td>\n",
       "      <td>1500.50</td>\n",
       "      <td>True</td>\n",
       "      <td>77</td>\n",
       "    </tr>\n",
       "    <tr>\n",
       "      <th>4</th>\n",
       "      <td>4</td>\n",
       "      <td>Alejandra</td>\n",
       "      <td>ale@hotmail.com</td>\n",
       "      <td>8115829673</td>\n",
       "      <td>Monterrey 120</td>\n",
       "      <td>1050.00</td>\n",
       "      <td>False</td>\n",
       "      <td>0</td>\n",
       "    </tr>\n",
       "    <tr>\n",
       "      <th>5</th>\n",
       "      <td>5</td>\n",
       "      <td>Alonso</td>\n",
       "      <td>alonso@correo.es</td>\n",
       "      <td>8115203617</td>\n",
       "      <td>Monterrey 890</td>\n",
       "      <td>600.00</td>\n",
       "      <td>True</td>\n",
       "      <td>0</td>\n",
       "    </tr>\n",
       "    <tr>\n",
       "      <th>6</th>\n",
       "      <td>6</td>\n",
       "      <td>Gisel</td>\n",
       "      <td>pollito@outlook.com</td>\n",
       "      <td>8118456912</td>\n",
       "      <td>Juarez 366</td>\n",
       "      <td>1000.00</td>\n",
       "      <td>True</td>\n",
       "      <td>33</td>\n",
       "    </tr>\n",
       "    <tr>\n",
       "      <th>7</th>\n",
       "      <td>7</td>\n",
       "      <td>Jesús</td>\n",
       "      <td>chuy@uanl.com</td>\n",
       "      <td>8125369033</td>\n",
       "      <td>Apodaca 520</td>\n",
       "      <td>2000.00</td>\n",
       "      <td>True</td>\n",
       "      <td>44</td>\n",
       "    </tr>\n",
       "    <tr>\n",
       "      <th>8</th>\n",
       "      <td>8</td>\n",
       "      <td>Luisa</td>\n",
       "      <td>luisa@gmailcom</td>\n",
       "      <td>8128529641</td>\n",
       "      <td>Santa Catarina 1100</td>\n",
       "      <td>5236.80</td>\n",
       "      <td>True</td>\n",
       "      <td>0</td>\n",
       "    </tr>\n",
       "    <tr>\n",
       "      <th>9</th>\n",
       "      <td>9</td>\n",
       "      <td>Yerittza</td>\n",
       "      <td>yeri@live.com</td>\n",
       "      <td>8111234589</td>\n",
       "      <td>Santiago 330</td>\n",
       "      <td>4600.50</td>\n",
       "      <td>True</td>\n",
       "      <td>52</td>\n",
       "    </tr>\n",
       "    <tr>\n",
       "      <th>10</th>\n",
       "      <td>10</td>\n",
       "      <td>Andrea</td>\n",
       "      <td>abcf@gmail.com</td>\n",
       "      <td>8128756314</td>\n",
       "      <td>Monterrey 1230</td>\n",
       "      <td>3900.00</td>\n",
       "      <td>False</td>\n",
       "      <td>90</td>\n",
       "    </tr>\n",
       "    <tr>\n",
       "      <th>11</th>\n",
       "      <td>11</td>\n",
       "      <td>Jair</td>\n",
       "      <td>jair@live.com</td>\n",
       "      <td>8123219674</td>\n",
       "      <td>Santa Catarina 600</td>\n",
       "      <td>910.52</td>\n",
       "      <td>False</td>\n",
       "      <td>63</td>\n",
       "    </tr>\n",
       "    <tr>\n",
       "      <th>12</th>\n",
       "      <td>12</td>\n",
       "      <td>Martin</td>\n",
       "      <td>mitin@outlook.com</td>\n",
       "      <td>8123719082</td>\n",
       "      <td>Apodaca 114</td>\n",
       "      <td>3620.63</td>\n",
       "      <td>False</td>\n",
       "      <td>44</td>\n",
       "    </tr>\n",
       "  </tbody>\n",
       "</table>\n",
       "</div>"
      ],
      "text/plain": [
       "    Id     Nombre               Correo    Telefono            Direccion  \\\n",
       "0    0      Zugey     zugey@correo.com  8114651212           Puebla 220   \n",
       "1    1       Pety       pety@correo.es  8115236096         Titanio 1000   \n",
       "2    2     Jaciel    jaciel@correo.com  8110461065            Argon 105   \n",
       "3    3     Aideth    daisy@outlook.com  8115236580          Salinas 551   \n",
       "4    4  Alejandra      ale@hotmail.com  8115829673        Monterrey 120   \n",
       "5    5     Alonso     alonso@correo.es  8115203617        Monterrey 890   \n",
       "6    6      Gisel  pollito@outlook.com  8118456912           Juarez 366   \n",
       "7    7      Jesús        chuy@uanl.com  8125369033          Apodaca 520   \n",
       "8    8      Luisa       luisa@gmailcom  8128529641  Santa Catarina 1100   \n",
       "9    9   Yerittza        yeri@live.com  8111234589         Santiago 330   \n",
       "10  10     Andrea       abcf@gmail.com  8128756314       Monterrey 1230   \n",
       "11  11       Jair        jair@live.com  8123219674   Santa Catarina 600   \n",
       "12  12     Martin    mitin@outlook.com  8123719082          Apodaca 114   \n",
       "\n",
       "      Monto  Estatus  Puntos  \n",
       "0   1000.00     True      23  \n",
       "1   1250.00    False      56  \n",
       "2   2000.00     True      32  \n",
       "3   1500.50     True      77  \n",
       "4   1050.00    False       0  \n",
       "5    600.00     True       0  \n",
       "6   1000.00     True      33  \n",
       "7   2000.00     True      44  \n",
       "8   5236.80     True       0  \n",
       "9   4600.50     True      52  \n",
       "10  3900.00    False      90  \n",
       "11   910.52    False      63  \n",
       "12  3620.63    False      44  "
      ]
     },
     "execution_count": 94,
     "metadata": {},
     "output_type": "execute_result"
    }
   ],
   "source": [
    "df = pd.read_excel(\"Banco1.xlsx\")\n",
    "df"
   ]
  },
  {
   "cell_type": "code",
   "execution_count": 95,
   "metadata": {},
   "outputs": [
    {
     "name": "stdout",
     "output_type": "stream",
     "text": [
      "Dinero total en banco: $ 28668.95\n"
     ]
    }
   ],
   "source": [
    "sumaMonto = df['Monto'].sum()\n",
    "print(\"Dinero total en banco: $ \" + str(sumaMonto))"
   ]
  },
  {
   "cell_type": "code",
   "execution_count": 96,
   "metadata": {},
   "outputs": [
    {
     "name": "stdout",
     "output_type": "stream",
     "text": [
      "count      13.000000\n",
      "mean     2205.303846\n",
      "std      1575.580245\n",
      "min       600.000000\n",
      "25%      1000.000000\n",
      "50%      1500.500000\n",
      "75%      3620.630000\n",
      "max      5236.800000\n",
      "Name: Monto, dtype: float64\n"
     ]
    }
   ],
   "source": [
    "desc = df['Monto'].describe()\n",
    "print(desc)"
   ]
  },
  {
   "cell_type": "code",
   "execution_count": 97,
   "metadata": {},
   "outputs": [
    {
     "name": "stdout",
     "output_type": "stream",
     "text": [
      "count    13.000000\n",
      "mean     39.538462\n",
      "std      28.909674\n",
      "min       0.000000\n",
      "25%      23.000000\n",
      "50%      44.000000\n",
      "75%      56.000000\n",
      "max      90.000000\n",
      "Name: Puntos, dtype: float64\n"
     ]
    }
   ],
   "source": [
    "desc = df['Puntos'].describe()\n",
    "print(desc)"
   ]
  },
  {
   "cell_type": "code",
   "execution_count": 98,
   "metadata": {},
   "outputs": [
    {
     "name": "stdout",
     "output_type": "stream",
     "text": [
      "0.9243907007060032\n"
     ]
    }
   ],
   "source": [
    "sesgo = df['Monto'].skew()\n",
    "print(sesgo)"
   ]
  },
  {
   "cell_type": "code",
   "execution_count": 99,
   "metadata": {},
   "outputs": [
    {
     "name": "stdout",
     "output_type": "stream",
     "text": [
      "-0.6570084877092719\n"
     ]
    }
   ],
   "source": [
    "dist = df['Monto'].kurt()\n",
    "print(dist)"
   ]
  },
  {
   "cell_type": "code",
   "execution_count": 100,
   "metadata": {},
   "outputs": [
    {
     "data": {
      "text/html": [
       "<div>\n",
       "<style scoped>\n",
       "    .dataframe tbody tr th:only-of-type {\n",
       "        vertical-align: middle;\n",
       "    }\n",
       "\n",
       "    .dataframe tbody tr th {\n",
       "        vertical-align: top;\n",
       "    }\n",
       "\n",
       "    .dataframe thead th {\n",
       "        text-align: right;\n",
       "    }\n",
       "</style>\n",
       "<table border=\"1\" class=\"dataframe\">\n",
       "  <thead>\n",
       "    <tr style=\"text-align: right;\">\n",
       "      <th></th>\n",
       "      <th>Id</th>\n",
       "      <th>Telefono</th>\n",
       "      <th>Monto</th>\n",
       "      <th>Estatus</th>\n",
       "      <th>Puntos</th>\n",
       "    </tr>\n",
       "  </thead>\n",
       "  <tbody>\n",
       "    <tr>\n",
       "      <th>Id</th>\n",
       "      <td>1.000000</td>\n",
       "      <td>0.652056</td>\n",
       "      <td>0.552748</td>\n",
       "      <td>-0.338062</td>\n",
       "      <td>0.267941</td>\n",
       "    </tr>\n",
       "    <tr>\n",
       "      <th>Telefono</th>\n",
       "      <td>0.652056</td>\n",
       "      <td>1.000000</td>\n",
       "      <td>0.425025</td>\n",
       "      <td>-0.319756</td>\n",
       "      <td>0.174508</td>\n",
       "    </tr>\n",
       "    <tr>\n",
       "      <th>Monto</th>\n",
       "      <td>0.552748</td>\n",
       "      <td>0.425025</td>\n",
       "      <td>1.000000</td>\n",
       "      <td>0.030851</td>\n",
       "      <td>0.122410</td>\n",
       "    </tr>\n",
       "    <tr>\n",
       "      <th>Estatus</th>\n",
       "      <td>-0.338062</td>\n",
       "      <td>-0.319756</td>\n",
       "      <td>0.030851</td>\n",
       "      <td>1.000000</td>\n",
       "      <td>-0.314843</td>\n",
       "    </tr>\n",
       "    <tr>\n",
       "      <th>Puntos</th>\n",
       "      <td>0.267941</td>\n",
       "      <td>0.174508</td>\n",
       "      <td>0.122410</td>\n",
       "      <td>-0.314843</td>\n",
       "      <td>1.000000</td>\n",
       "    </tr>\n",
       "  </tbody>\n",
       "</table>\n",
       "</div>"
      ],
      "text/plain": [
       "                Id  Telefono     Monto   Estatus    Puntos\n",
       "Id        1.000000  0.652056  0.552748 -0.338062  0.267941\n",
       "Telefono  0.652056  1.000000  0.425025 -0.319756  0.174508\n",
       "Monto     0.552748  0.425025  1.000000  0.030851  0.122410\n",
       "Estatus  -0.338062 -0.319756  0.030851  1.000000 -0.314843\n",
       "Puntos    0.267941  0.174508  0.122410 -0.314843  1.000000"
      ]
     },
     "execution_count": 100,
     "metadata": {},
     "output_type": "execute_result"
    }
   ],
   "source": [
    "df.corr()"
   ]
  },
  {
   "cell_type": "code",
   "execution_count": 131,
   "metadata": {},
   "outputs": [
    {
     "data": {
      "text/plain": [
       "Text(0.5, 0.98, 'Monto en banco de clientes')"
      ]
     },
     "execution_count": 131,
     "metadata": {},
     "output_type": "execute_result"
    },
    {
     "data": {
      "image/png": "[encoded data removed]",
      "text/plain": [
       "<Figure size 648x216 with 1 Axes>"
      ]
     },
     "metadata": {
      "needs_background": "light"
     },
     "output_type": "display_data"
    }
   ],
   "source": [
    "fig, axs = pltp.subplots(1, figsize=(9, 3), sharey=True)\n",
    "axs.plot(df['Nombre'], df['Monto'])\n",
    "fig.suptitle('Monto en banco de clientes')"
   ]
  },
  {
   "cell_type": "markdown",
   "metadata": {},
   "source": [
    "Esta gráfica de Monto en banco de clientes nos ayuda a indentificar rápida y visualmente a los clientes con mayor y menor monto, Luisa y Alonso respectivamente."
   ]
  },
  {
   "cell_type": "code",
   "execution_count": 127,
   "metadata": {},
   "outputs": [
    {
     "data": {
      "text/plain": [
       "Text(0.5, 0.98, 'Estatus de clientes')"
      ]
     },
     "execution_count": 127,
     "metadata": {},
     "output_type": "execute_result"
    },
    {
     "data": {
      "image/png": "[encoded data removed]",
      "text/plain": [
       "<Figure size 648x216 with 1 Axes>"
      ]
     },
     "metadata": {
      "needs_background": "light"
     },
     "output_type": "display_data"
    }
   ],
   "source": [
    "fig, axs = pltp.subplots(1, figsize=(9, 3), sharey=True)\n",
    "axs.scatter(df['Nombre'], df['Estatus'])\n",
    "fig.suptitle('Estatus de clientes')"
   ]
  },
  {
   "cell_type": "markdown",
   "metadata": {},
   "source": [
    "La gráfica anterior nos muestra el estatus (activo e inactivo) de todos los clientes. Podemos darnos cuenta que del total de clientes 5 están inactivos y 8 activos."
   ]
  },
  {
   "cell_type": "code",
   "execution_count": 161,
   "metadata": {},
   "outputs": [
    {
     "data": {
      "text/plain": [
       "<seaborn.axisgrid.FacetGrid at 0x2580466e880>"
      ]
     },
     "execution_count": 161,
     "metadata": {},
     "output_type": "execute_result"
    },
    {
     "data": {
      "image/png": "[encoded data removed]",
      "text/plain": [
       "<Figure size 429.75x360 with 1 Axes>"
      ]
     },
     "metadata": {
      "needs_background": "light"
     },
     "output_type": "display_data"
    }
   ],
   "source": [
    "sns.relplot(data = df[['Monto','Puntos']], kind = 'line')"
   ]
  },
  {
   "cell_type": "markdown",
   "metadata": {},
   "source": [
    "En esta gráfica se comparan el Monto y los Puntos de los clientes, observamos que son independientes entre sí."
   ]
  },
  {
   "cell_type": "code",
   "execution_count": null,
   "metadata": {},
   "outputs": [],
   "source": []
  }
 ],
 "metadata": {
  "kernelspec": {
   "display_name": "Python 3",
   "language": "python",
   "name": "python3"
  },
  "language_info": {
   "codemirror_mode": {
    "name": "ipython",
    "version": 3
   },
   "file_extension": ".py",
   "mimetype": "text/x-python",
   "name": "python",
   "nbconvert_exporter": "python",
   "pygments_lexer": "ipython3",
   "version": "3.8.3"
  }
 },
 "nbformat": 4,
 "nbformat_minor": 4
}
