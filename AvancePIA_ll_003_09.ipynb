{
 "cells": [
  {
   "cell_type": "markdown",
   "metadata": {},
   "source": [
    "  \n",
    "**Minería de datos**  \n",
    "Equipo 09 Grupo 003 Viernes 6:00 pm a 9:00 pm  \n",
    "Integrantes:\n",
    "\n",
    "- Patricia García Olmeda 1931549\n",
    "- Lindsey Zugey Alejandro Castillo 1676950\n",
    "- Jorge Adrian Gonzalez Peña 1821695"
   ]
  },
  {
   "cell_type": "markdown",
   "metadata": {},
   "source": [
    "# Base de datos  \n",
    "### 1) *Conjunto de datos de delitos de San Francisco*  \n",
    "URL: https://www.kaggle.com/roshansharma/sanfranciso-crime-dataset"
   ]
  },
  {
   "cell_type": "markdown",
   "metadata": {},
   "source": [
    "### 2) Descripción de los datos  \n",
    "Nuesta base de datos se conforma por un total de 13 columnas y 150,500 registros. En las columnas podemos encontrar el número de incidente, la categoría del crimen sucedido, su descripción, el día de la semana en que ocurrió, feha, hora, distrito, el tipo de solución o castigo que se le dio, dirección y latitud del lugar donde se cometió el delito. Contamos con tres graficas las cuales nos muestran la frecuencia de los tiempos sucecididos, frecuencia el las fechas sucedidas y las latitudes de los crímenes. Entre los tipos de datos que conforman nuestra base de datos encontramos: string, date, int, time y float."
   ]
  },
  {
   "cell_type": "markdown",
   "metadata": {},
   "source": [
    "### 3) Justificación del uso de datos  \n",
    "Lo que más llamó nuestra atención fue el orden de los datos ya que nos ayuda a tener una mejor visualización de estos y poder llegar a una mejor resolución del problema. Estos datos nos parecieron útiles ya que podemos categorizar las zonas y los tiempos para poder encontrar patrones de crímenes en deterinados días de la semana (por ejemplo) y poder obtener buenas conclusiones. En general, la base de datos *Conjunto de datos de delitos de San Francisco* nos convenció por su nivel de detalle, por su especificidad y suficiencia en información.     \n",
    "\n",
    "El beneficio que vemos es como mencionamos antes, el orden de los datos, esto nos ayuda a depurar los datos que no creemos tan útiles fácilmente y tener una mejor visualización de los datos que pensamos que tienen prioridad para la solución al problema planteado. Y como la base de datos es definida a una sola ciudad, la información obtenida es concreta."
   ]
  },
  {
   "cell_type": "markdown",
   "metadata": {},
   "source": [
    "### 4) Objetivos  \n",
    "Nuestro objetivo principal es poder definir qué días podemos considerar como los más \"peligrosos\" en la ciudad de San Francisco, es decir, se definen los días en los que los crímenes son mas propensos a ocurrir. Investigaremos los tipos de crímenes, su frecuencia durante la semana y su tipo de resolución, con la finalidad de poder llegar a una mejor conclusión y lograr identificar los barrios donde es necesario que se aumente la seguridad.\n",
    "\n",
    "#### Objetivo Secundario\n",
    "   Categorizar el tipo de crimen para poder encontrar cual de estos es mas frecuente y que dia es el que ocurre mayormente.\n",
    "    \n"
   ]
  },
  {
   "cell_type": "markdown",
   "metadata": {},
   "source": [
    "# Desarrollo de las herramientas"
   ]
  },
  {
   "cell_type": "markdown",
   "metadata": {},
   "source": [
    "### 1) Limpieza de los datos"
   ]
  },
  {
   "cell_type": "code",
   "execution_count": 1,
   "metadata": {},
   "outputs": [],
   "source": [
    "import pandas as pd"
   ]
  },
  {
   "cell_type": "code",
   "execution_count": 2,
   "metadata": {},
   "outputs": [],
   "source": [
    "from pandas import Series\n",
    "import pandas as pd\n",
    "import numpy as np\n",
    "import json\n",
    "import xlrd\n",
    "import xlwt\n",
    "import seaborn as sns\n",
    "\n",
    " "
   ]
  },
  {
   "cell_type": "code",
   "execution_count": 29,
   "metadata": {
    "scrolled": true
   },
   "outputs": [
    {
     "data": {
      "text/html": [
       "<div>\n",
       "<style scoped>\n",
       "    .dataframe tbody tr th:only-of-type {\n",
       "        vertical-align: middle;\n",
       "    }\n",
       "\n",
       "    .dataframe tbody tr th {\n",
       "        vertical-align: top;\n",
       "    }\n",
       "\n",
       "    .dataframe thead th {\n",
       "        text-align: right;\n",
       "    }\n",
       "</style>\n",
       "<table border=\"1\" class=\"dataframe\">\n",
       "  <thead>\n",
       "    <tr style=\"text-align: right;\">\n",
       "      <th></th>\n",
       "      <th>IncidntNum</th>\n",
       "      <th>Category</th>\n",
       "      <th>Descript</th>\n",
       "      <th>DayOfWeek</th>\n",
       "      <th>Date</th>\n",
       "      <th>Time</th>\n",
       "      <th>PdDistrict</th>\n",
       "      <th>Resolution</th>\n",
       "      <th>Address</th>\n",
       "      <th>X</th>\n",
       "      <th>Y</th>\n",
       "      <th>Location</th>\n",
       "      <th>PdId</th>\n",
       "    </tr>\n",
       "  </thead>\n",
       "  <tbody>\n",
       "    <tr>\n",
       "      <th>0</th>\n",
       "      <td>120058272</td>\n",
       "      <td>WEAPON LAWS</td>\n",
       "      <td>POSS OF PROHIBITED WEAPON</td>\n",
       "      <td>Friday</td>\n",
       "      <td>01/29/2016 12:00:00 AM</td>\n",
       "      <td>11:00:00</td>\n",
       "      <td>SOUTHERN</td>\n",
       "      <td>ARREST, BOOKED</td>\n",
       "      <td>800 Block of BRYANT ST</td>\n",
       "      <td>-122.403405</td>\n",
       "      <td>37.775421</td>\n",
       "      <td>(37.775420706711, -122.403404791479)</td>\n",
       "      <td>12005827212120</td>\n",
       "    </tr>\n",
       "    <tr>\n",
       "      <th>1</th>\n",
       "      <td>120058272</td>\n",
       "      <td>WEAPON LAWS</td>\n",
       "      <td>FIREARM, LOADED, IN VEHICLE, POSSESSION OR USE</td>\n",
       "      <td>Friday</td>\n",
       "      <td>01/29/2016 12:00:00 AM</td>\n",
       "      <td>11:00:00</td>\n",
       "      <td>SOUTHERN</td>\n",
       "      <td>ARREST, BOOKED</td>\n",
       "      <td>800 Block of BRYANT ST</td>\n",
       "      <td>-122.403405</td>\n",
       "      <td>37.775421</td>\n",
       "      <td>(37.775420706711, -122.403404791479)</td>\n",
       "      <td>12005827212168</td>\n",
       "    </tr>\n",
       "    <tr>\n",
       "      <th>2</th>\n",
       "      <td>141059263</td>\n",
       "      <td>WARRANTS</td>\n",
       "      <td>WARRANT ARREST</td>\n",
       "      <td>Monday</td>\n",
       "      <td>04/25/2016 12:00:00 AM</td>\n",
       "      <td>14:59:00</td>\n",
       "      <td>BAYVIEW</td>\n",
       "      <td>ARREST, BOOKED</td>\n",
       "      <td>KEITH ST / SHAFTER AV</td>\n",
       "      <td>-122.388856</td>\n",
       "      <td>37.729981</td>\n",
       "      <td>(37.7299809672996, -122.388856204292)</td>\n",
       "      <td>14105926363010</td>\n",
       "    </tr>\n",
       "    <tr>\n",
       "      <th>3</th>\n",
       "      <td>160013662</td>\n",
       "      <td>NON-CRIMINAL</td>\n",
       "      <td>LOST PROPERTY</td>\n",
       "      <td>Tuesday</td>\n",
       "      <td>01/05/2016 12:00:00 AM</td>\n",
       "      <td>23:50:00</td>\n",
       "      <td>TENDERLOIN</td>\n",
       "      <td>NONE</td>\n",
       "      <td>JONES ST / OFARRELL ST</td>\n",
       "      <td>-122.412971</td>\n",
       "      <td>37.785788</td>\n",
       "      <td>(37.7857883766888, -122.412970537591)</td>\n",
       "      <td>16001366271000</td>\n",
       "    </tr>\n",
       "    <tr>\n",
       "      <th>4</th>\n",
       "      <td>160002740</td>\n",
       "      <td>NON-CRIMINAL</td>\n",
       "      <td>LOST PROPERTY</td>\n",
       "      <td>Friday</td>\n",
       "      <td>01/01/2016 12:00:00 AM</td>\n",
       "      <td>00:30:00</td>\n",
       "      <td>MISSION</td>\n",
       "      <td>NONE</td>\n",
       "      <td>16TH ST / MISSION ST</td>\n",
       "      <td>-122.419672</td>\n",
       "      <td>37.765050</td>\n",
       "      <td>(37.7650501214668, -122.419671780296)</td>\n",
       "      <td>16000274071000</td>\n",
       "    </tr>\n",
       "    <tr>\n",
       "      <th>...</th>\n",
       "      <td>...</td>\n",
       "      <td>...</td>\n",
       "      <td>...</td>\n",
       "      <td>...</td>\n",
       "      <td>...</td>\n",
       "      <td>...</td>\n",
       "      <td>...</td>\n",
       "      <td>...</td>\n",
       "      <td>...</td>\n",
       "      <td>...</td>\n",
       "      <td>...</td>\n",
       "      <td>...</td>\n",
       "      <td>...</td>\n",
       "    </tr>\n",
       "    <tr>\n",
       "      <th>150495</th>\n",
       "      <td>161061000</td>\n",
       "      <td>ASSAULT</td>\n",
       "      <td>BATTERY</td>\n",
       "      <td>Friday</td>\n",
       "      <td>12/30/2016 12:00:00 AM</td>\n",
       "      <td>21:01:00</td>\n",
       "      <td>PARK</td>\n",
       "      <td>NONE</td>\n",
       "      <td>OAK ST / STANYAN ST</td>\n",
       "      <td>-122.453982</td>\n",
       "      <td>37.771428</td>\n",
       "      <td>(37.7714278595913, -122.453981622365)</td>\n",
       "      <td>16106100004134</td>\n",
       "    </tr>\n",
       "    <tr>\n",
       "      <th>150496</th>\n",
       "      <td>176000742</td>\n",
       "      <td>NON-CRIMINAL</td>\n",
       "      <td>LOST PROPERTY</td>\n",
       "      <td>Friday</td>\n",
       "      <td>12/30/2016 12:00:00 AM</td>\n",
       "      <td>08:00:00</td>\n",
       "      <td>CENTRAL</td>\n",
       "      <td>NONE</td>\n",
       "      <td>JACKSON ST / SANSOME ST</td>\n",
       "      <td>-122.401857</td>\n",
       "      <td>37.796626</td>\n",
       "      <td>(37.7966261239618, -122.401857374739)</td>\n",
       "      <td>17600074271000</td>\n",
       "    </tr>\n",
       "    <tr>\n",
       "      <th>150497</th>\n",
       "      <td>176000758</td>\n",
       "      <td>LARCENY/THEFT</td>\n",
       "      <td>PETTY THEFT OF PROPERTY</td>\n",
       "      <td>Thursday</td>\n",
       "      <td>12/29/2016 12:00:00 AM</td>\n",
       "      <td>20:00:00</td>\n",
       "      <td>CENTRAL</td>\n",
       "      <td>NONE</td>\n",
       "      <td>PINE ST / TAYLOR ST</td>\n",
       "      <td>-122.412269</td>\n",
       "      <td>37.790673</td>\n",
       "      <td>(37.7906727649886, -122.41226909106)</td>\n",
       "      <td>17600075806372</td>\n",
       "    </tr>\n",
       "    <tr>\n",
       "      <th>150498</th>\n",
       "      <td>176000764</td>\n",
       "      <td>LARCENY/THEFT</td>\n",
       "      <td>GRAND THEFT OF PROPERTY</td>\n",
       "      <td>Friday</td>\n",
       "      <td>12/30/2016 12:00:00 AM</td>\n",
       "      <td>10:00:00</td>\n",
       "      <td>CENTRAL</td>\n",
       "      <td>NONE</td>\n",
       "      <td>200 Block of STOCKTON ST</td>\n",
       "      <td>-122.406659</td>\n",
       "      <td>37.788275</td>\n",
       "      <td>(37.7882745285785, -122.406658711008)</td>\n",
       "      <td>17600076406374</td>\n",
       "    </tr>\n",
       "    <tr>\n",
       "      <th>150499</th>\n",
       "      <td>179002868</td>\n",
       "      <td>OTHER OFFENSES</td>\n",
       "      <td>FRAUDULENT GAME OR TRICK, OBTAINING MONEY OR P...</td>\n",
       "      <td>Friday</td>\n",
       "      <td>12/02/2016 12:00:00 AM</td>\n",
       "      <td>14:00:00</td>\n",
       "      <td>SOUTHERN</td>\n",
       "      <td>NONE</td>\n",
       "      <td>800 Block of BRYANT ST</td>\n",
       "      <td>-122.403405</td>\n",
       "      <td>37.775421</td>\n",
       "      <td>(37.775420706711, -122.403404791479)</td>\n",
       "      <td>17900286809024</td>\n",
       "    </tr>\n",
       "  </tbody>\n",
       "</table>\n",
       "<p>150500 rows × 13 columns</p>\n",
       "</div>"
      ],
      "text/plain": [
       "        IncidntNum        Category  \\\n",
       "0        120058272     WEAPON LAWS   \n",
       "1        120058272     WEAPON LAWS   \n",
       "2        141059263        WARRANTS   \n",
       "3        160013662    NON-CRIMINAL   \n",
       "4        160002740    NON-CRIMINAL   \n",
       "...            ...             ...   \n",
       "150495   161061000         ASSAULT   \n",
       "150496   176000742    NON-CRIMINAL   \n",
       "150497   176000758   LARCENY/THEFT   \n",
       "150498   176000764   LARCENY/THEFT   \n",
       "150499   179002868  OTHER OFFENSES   \n",
       "\n",
       "                                                 Descript DayOfWeek  \\\n",
       "0                               POSS OF PROHIBITED WEAPON    Friday   \n",
       "1          FIREARM, LOADED, IN VEHICLE, POSSESSION OR USE    Friday   \n",
       "2                                          WARRANT ARREST    Monday   \n",
       "3                                           LOST PROPERTY   Tuesday   \n",
       "4                                           LOST PROPERTY    Friday   \n",
       "...                                                   ...       ...   \n",
       "150495                                            BATTERY    Friday   \n",
       "150496                                      LOST PROPERTY    Friday   \n",
       "150497                            PETTY THEFT OF PROPERTY  Thursday   \n",
       "150498                            GRAND THEFT OF PROPERTY    Friday   \n",
       "150499  FRAUDULENT GAME OR TRICK, OBTAINING MONEY OR P...    Friday   \n",
       "\n",
       "                          Date      Time  PdDistrict      Resolution  \\\n",
       "0       01/29/2016 12:00:00 AM  11:00:00    SOUTHERN  ARREST, BOOKED   \n",
       "1       01/29/2016 12:00:00 AM  11:00:00    SOUTHERN  ARREST, BOOKED   \n",
       "2       04/25/2016 12:00:00 AM  14:59:00     BAYVIEW  ARREST, BOOKED   \n",
       "3       01/05/2016 12:00:00 AM  23:50:00  TENDERLOIN            NONE   \n",
       "4       01/01/2016 12:00:00 AM  00:30:00     MISSION            NONE   \n",
       "...                        ...       ...         ...             ...   \n",
       "150495  12/30/2016 12:00:00 AM  21:01:00        PARK            NONE   \n",
       "150496  12/30/2016 12:00:00 AM  08:00:00     CENTRAL            NONE   \n",
       "150497  12/29/2016 12:00:00 AM  20:00:00     CENTRAL            NONE   \n",
       "150498  12/30/2016 12:00:00 AM  10:00:00     CENTRAL            NONE   \n",
       "150499  12/02/2016 12:00:00 AM  14:00:00    SOUTHERN            NONE   \n",
       "\n",
       "                         Address           X          Y  \\\n",
       "0         800 Block of BRYANT ST -122.403405  37.775421   \n",
       "1         800 Block of BRYANT ST -122.403405  37.775421   \n",
       "2          KEITH ST / SHAFTER AV -122.388856  37.729981   \n",
       "3         JONES ST / OFARRELL ST -122.412971  37.785788   \n",
       "4           16TH ST / MISSION ST -122.419672  37.765050   \n",
       "...                          ...         ...        ...   \n",
       "150495       OAK ST / STANYAN ST -122.453982  37.771428   \n",
       "150496   JACKSON ST / SANSOME ST -122.401857  37.796626   \n",
       "150497       PINE ST / TAYLOR ST -122.412269  37.790673   \n",
       "150498  200 Block of STOCKTON ST -122.406659  37.788275   \n",
       "150499    800 Block of BRYANT ST -122.403405  37.775421   \n",
       "\n",
       "                                     Location            PdId  \n",
       "0        (37.775420706711, -122.403404791479)  12005827212120  \n",
       "1        (37.775420706711, -122.403404791479)  12005827212168  \n",
       "2       (37.7299809672996, -122.388856204292)  14105926363010  \n",
       "3       (37.7857883766888, -122.412970537591)  16001366271000  \n",
       "4       (37.7650501214668, -122.419671780296)  16000274071000  \n",
       "...                                       ...             ...  \n",
       "150495  (37.7714278595913, -122.453981622365)  16106100004134  \n",
       "150496  (37.7966261239618, -122.401857374739)  17600074271000  \n",
       "150497   (37.7906727649886, -122.41226909106)  17600075806372  \n",
       "150498  (37.7882745285785, -122.406658711008)  17600076406374  \n",
       "150499   (37.775420706711, -122.403404791479)  17900286809024  \n",
       "\n",
       "[150500 rows x 13 columns]"
      ]
     },
     "execution_count": 29,
     "metadata": {},
     "output_type": "execute_result"
    }
   ],
   "source": [
    "df = pd.read_excel(\"Police_Department_2016.xlsx\")\n",
    "df"
   ]
  },
  {
   "cell_type": "code",
   "execution_count": 30,
   "metadata": {
    "scrolled": true
   },
   "outputs": [
    {
     "data": {
      "text/plain": [
       "IncidntNum      int64\n",
       "Category       object\n",
       "Descript       object\n",
       "DayOfWeek      object\n",
       "Date           object\n",
       "Time           object\n",
       "PdDistrict     object\n",
       "Resolution     object\n",
       "Address        object\n",
       "X             float64\n",
       "Y             float64\n",
       "Location       object\n",
       "PdId            int64\n",
       "dtype: object"
      ]
     },
     "execution_count": 30,
     "metadata": {},
     "output_type": "execute_result"
    }
   ],
   "source": [
    "df.columns\n",
    "df.dtypes"
   ]
  },
  {
   "cell_type": "code",
   "execution_count": 31,
   "metadata": {},
   "outputs": [],
   "source": [
    "df.drop(['IncidntNum','Address', 'X', 'Y', 'Location', 'PdId'], axis = 1, inplace = True)"
   ]
  },
  {
   "cell_type": "code",
   "execution_count": 32,
   "metadata": {},
   "outputs": [
    {
     "data": {
      "text/html": [
       "<div>\n",
       "<style scoped>\n",
       "    .dataframe tbody tr th:only-of-type {\n",
       "        vertical-align: middle;\n",
       "    }\n",
       "\n",
       "    .dataframe tbody tr th {\n",
       "        vertical-align: top;\n",
       "    }\n",
       "\n",
       "    .dataframe thead th {\n",
       "        text-align: right;\n",
       "    }\n",
       "</style>\n",
       "<table border=\"1\" class=\"dataframe\">\n",
       "  <thead>\n",
       "    <tr style=\"text-align: right;\">\n",
       "      <th></th>\n",
       "      <th>Category</th>\n",
       "      <th>Descript</th>\n",
       "      <th>DayOfWeek</th>\n",
       "      <th>Date</th>\n",
       "      <th>Time</th>\n",
       "      <th>PdDistrict</th>\n",
       "      <th>Resolution</th>\n",
       "    </tr>\n",
       "  </thead>\n",
       "  <tbody>\n",
       "    <tr>\n",
       "      <th>32</th>\n",
       "      <td>LARCENY/THEFT</td>\n",
       "      <td>PETTY THEFT SHOPLIFTING</td>\n",
       "      <td>Tuesday</td>\n",
       "      <td>02/16/2016 12:00:00 AM</td>\n",
       "      <td>12:40:00</td>\n",
       "      <td>INGLESIDE</td>\n",
       "      <td>NONE</td>\n",
       "    </tr>\n",
       "    <tr>\n",
       "      <th>73</th>\n",
       "      <td>LARCENY/THEFT</td>\n",
       "      <td>ATTEMPTED THEFT FROM LOCKED VEHICLE</td>\n",
       "      <td>Tuesday</td>\n",
       "      <td>01/05/2016 12:00:00 AM</td>\n",
       "      <td>19:30:00</td>\n",
       "      <td>INGLESIDE</td>\n",
       "      <td>NONE</td>\n",
       "    </tr>\n",
       "    <tr>\n",
       "      <th>309</th>\n",
       "      <td>LARCENY/THEFT</td>\n",
       "      <td>EMBEZZLEMENT FROM DEPENDENT OR ELDER ADULT BY ...</td>\n",
       "      <td>Monday</td>\n",
       "      <td>01/11/2016 12:00:00 AM</td>\n",
       "      <td>14:38:00</td>\n",
       "      <td>INGLESIDE</td>\n",
       "      <td>NONE</td>\n",
       "    </tr>\n",
       "    <tr>\n",
       "      <th>400</th>\n",
       "      <td>LARCENY/THEFT</td>\n",
       "      <td>PETTY THEFT FROM A BUILDING</td>\n",
       "      <td>Wednesday</td>\n",
       "      <td>01/13/2016 12:00:00 AM</td>\n",
       "      <td>10:09:00</td>\n",
       "      <td>INGLESIDE</td>\n",
       "      <td>NONE</td>\n",
       "    </tr>\n",
       "    <tr>\n",
       "      <th>448</th>\n",
       "      <td>LARCENY/THEFT</td>\n",
       "      <td>PETTY THEFT FROM LOCKED AUTO</td>\n",
       "      <td>Monday</td>\n",
       "      <td>04/11/2016 12:00:00 AM</td>\n",
       "      <td>15:30:00</td>\n",
       "      <td>INGLESIDE</td>\n",
       "      <td>NONE</td>\n",
       "    </tr>\n",
       "    <tr>\n",
       "      <th>...</th>\n",
       "      <td>...</td>\n",
       "      <td>...</td>\n",
       "      <td>...</td>\n",
       "      <td>...</td>\n",
       "      <td>...</td>\n",
       "      <td>...</td>\n",
       "      <td>...</td>\n",
       "    </tr>\n",
       "    <tr>\n",
       "      <th>149853</th>\n",
       "      <td>LARCENY/THEFT</td>\n",
       "      <td>PETTY THEFT FROM LOCKED AUTO</td>\n",
       "      <td>Wednesday</td>\n",
       "      <td>11/02/2016 12:00:00 AM</td>\n",
       "      <td>23:10:00</td>\n",
       "      <td>INGLESIDE</td>\n",
       "      <td>NONE</td>\n",
       "    </tr>\n",
       "    <tr>\n",
       "      <th>149884</th>\n",
       "      <td>LARCENY/THEFT</td>\n",
       "      <td>PETTY THEFT OF PROPERTY</td>\n",
       "      <td>Saturday</td>\n",
       "      <td>12/17/2016 12:00:00 AM</td>\n",
       "      <td>15:55:00</td>\n",
       "      <td>INGLESIDE</td>\n",
       "      <td>NONE</td>\n",
       "    </tr>\n",
       "    <tr>\n",
       "      <th>149953</th>\n",
       "      <td>LARCENY/THEFT</td>\n",
       "      <td>PETTY THEFT BICYCLE</td>\n",
       "      <td>Friday</td>\n",
       "      <td>09/30/2016 12:00:00 AM</td>\n",
       "      <td>09:30:00</td>\n",
       "      <td>INGLESIDE</td>\n",
       "      <td>NONE</td>\n",
       "    </tr>\n",
       "    <tr>\n",
       "      <th>150059</th>\n",
       "      <td>LARCENY/THEFT</td>\n",
       "      <td>PETTY THEFT FROM LOCKED AUTO</td>\n",
       "      <td>Monday</td>\n",
       "      <td>01/11/2016 12:00:00 AM</td>\n",
       "      <td>18:00:00</td>\n",
       "      <td>INGLESIDE</td>\n",
       "      <td>NONE</td>\n",
       "    </tr>\n",
       "    <tr>\n",
       "      <th>150361</th>\n",
       "      <td>LARCENY/THEFT</td>\n",
       "      <td>GRAND THEFT FROM PERSON</td>\n",
       "      <td>Tuesday</td>\n",
       "      <td>07/26/2016 12:00:00 AM</td>\n",
       "      <td>22:05:00</td>\n",
       "      <td>INGLESIDE</td>\n",
       "      <td>NONE</td>\n",
       "    </tr>\n",
       "  </tbody>\n",
       "</table>\n",
       "<p>1746 rows × 7 columns</p>\n",
       "</div>"
      ],
      "text/plain": [
       "             Category                                           Descript  \\\n",
       "32      LARCENY/THEFT                            PETTY THEFT SHOPLIFTING   \n",
       "73      LARCENY/THEFT                ATTEMPTED THEFT FROM LOCKED VEHICLE   \n",
       "309     LARCENY/THEFT  EMBEZZLEMENT FROM DEPENDENT OR ELDER ADULT BY ...   \n",
       "400     LARCENY/THEFT                        PETTY THEFT FROM A BUILDING   \n",
       "448     LARCENY/THEFT                       PETTY THEFT FROM LOCKED AUTO   \n",
       "...               ...                                                ...   \n",
       "149853  LARCENY/THEFT                       PETTY THEFT FROM LOCKED AUTO   \n",
       "149884  LARCENY/THEFT                            PETTY THEFT OF PROPERTY   \n",
       "149953  LARCENY/THEFT                                PETTY THEFT BICYCLE   \n",
       "150059  LARCENY/THEFT                       PETTY THEFT FROM LOCKED AUTO   \n",
       "150361  LARCENY/THEFT                            GRAND THEFT FROM PERSON   \n",
       "\n",
       "        DayOfWeek                    Date      Time PdDistrict Resolution  \n",
       "32        Tuesday  02/16/2016 12:00:00 AM  12:40:00  INGLESIDE       NONE  \n",
       "73        Tuesday  01/05/2016 12:00:00 AM  19:30:00  INGLESIDE       NONE  \n",
       "309        Monday  01/11/2016 12:00:00 AM  14:38:00  INGLESIDE       NONE  \n",
       "400     Wednesday  01/13/2016 12:00:00 AM  10:09:00  INGLESIDE       NONE  \n",
       "448        Monday  04/11/2016 12:00:00 AM  15:30:00  INGLESIDE       NONE  \n",
       "...           ...                     ...       ...        ...        ...  \n",
       "149853  Wednesday  11/02/2016 12:00:00 AM  23:10:00  INGLESIDE       NONE  \n",
       "149884   Saturday  12/17/2016 12:00:00 AM  15:55:00  INGLESIDE       NONE  \n",
       "149953     Friday  09/30/2016 12:00:00 AM  09:30:00  INGLESIDE       NONE  \n",
       "150059     Monday  01/11/2016 12:00:00 AM  18:00:00  INGLESIDE       NONE  \n",
       "150361    Tuesday  07/26/2016 12:00:00 AM  22:05:00  INGLESIDE       NONE  \n",
       "\n",
       "[1746 rows x 7 columns]"
      ]
     },
     "execution_count": 32,
     "metadata": {},
     "output_type": "execute_result"
    }
   ],
   "source": [
    "df[(df.Category == 'LARCENY/THEFT') & (df.Resolution == 'NONE') & (df.PdDistrict == 'INGLESIDE')]"
   ]
  },
  {
   "cell_type": "markdown",
   "metadata": {},
   "source": [
    "Aplicamos determinados filtros a nuestra base de datos para centrarnos en la problemática de ¿por qué sucede el tipo delincuencia en ciertos días, a cierta hora, en cierto distrito?. Acotando nuestros datos podemos obtener infromación más exacta. Por ejemplo, aquí estamos trabajando solo con el tipo de crimen más frecuente y no resuelto en el distrito de INGLESIDE, uno de los más pequeños en San Francisco."
   ]
  },
  {
   "cell_type": "code",
   "execution_count": 121,
   "metadata": {},
   "outputs": [
    {
     "data": {
      "text/plain": [
       "array(['Friday', 'Monday', 'Tuesday', 'Saturday', 'Thursday', 'Sunday',\n",
       "       'Wednesday'], dtype=object)"
      ]
     },
     "execution_count": 121,
     "metadata": {},
     "output_type": "execute_result"
    }
   ],
   "source": [
    "df.DayOfWeek.unique()"
   ]
  },
  {
   "cell_type": "code",
   "execution_count": 122,
   "metadata": {},
   "outputs": [
    {
     "data": {
      "text/plain": [
       "array([datetime.time(11, 0), datetime.time(14, 59), datetime.time(23, 50),\n",
       "       ..., datetime.time(6, 1), datetime.time(1, 48),\n",
       "       datetime.time(5, 59)], dtype=object)"
      ]
     },
     "execution_count": 122,
     "metadata": {},
     "output_type": "execute_result"
    }
   ],
   "source": [
    "df.Time.unique()"
   ]
  },
  {
   "cell_type": "code",
   "execution_count": 123,
   "metadata": {},
   "outputs": [
    {
     "data": {
      "text/plain": [
       "array(['ARREST, BOOKED', 'NONE', 'JUVENILE BOOKED', 'ARREST, CITED',\n",
       "       'UNFOUNDED', 'JUVENILE DIVERTED',\n",
       "       'CLEARED-CONTACT JUVENILE FOR MORE INFO', 'EXCEPTIONAL CLEARANCE',\n",
       "       'LOCATED', 'PSYCHOPATHIC CASE', 'COMPLAINANT REFUSES TO PROSECUTE',\n",
       "       'NOT PROSECUTED', 'PROSECUTED BY OUTSIDE AGENCY', 'JUVENILE CITED'],\n",
       "      dtype=object)"
      ]
     },
     "execution_count": 123,
     "metadata": {},
     "output_type": "execute_result"
    }
   ],
   "source": [
    "df.Resolution.unique()"
   ]
  },
  {
   "cell_type": "code",
   "execution_count": 85,
   "metadata": {},
   "outputs": [],
   "source": [
    "subdf = pd.ExcelWriter('Police_D2016_filter.xlsx', engine = 'xlsxwriter')\n",
    "df.to_excel(subdf)\n",
    "subdf.save()\n",
    "subdf = pd.read_excel(\"Police_D2016_filter.xlsx\")"
   ]
  },
  {
   "cell_type": "code",
   "execution_count": 52,
   "metadata": {},
   "outputs": [
    {
     "data": {
      "text/html": [
       "<div>\n",
       "<style scoped>\n",
       "    .dataframe tbody tr th:only-of-type {\n",
       "        vertical-align: middle;\n",
       "    }\n",
       "\n",
       "    .dataframe tbody tr th {\n",
       "        vertical-align: top;\n",
       "    }\n",
       "\n",
       "    .dataframe thead th {\n",
       "        text-align: right;\n",
       "    }\n",
       "</style>\n",
       "<table border=\"1\" class=\"dataframe\">\n",
       "  <thead>\n",
       "    <tr style=\"text-align: right;\">\n",
       "      <th></th>\n",
       "      <th>Unnamed: 0</th>\n",
       "      <th>Category</th>\n",
       "      <th>Descript</th>\n",
       "      <th>DayOfWeek</th>\n",
       "      <th>Date</th>\n",
       "      <th>Time</th>\n",
       "      <th>PdDistrict</th>\n",
       "      <th>Resolution</th>\n",
       "    </tr>\n",
       "  </thead>\n",
       "  <tbody>\n",
       "    <tr>\n",
       "      <th>0</th>\n",
       "      <td>False</td>\n",
       "      <td>False</td>\n",
       "      <td>False</td>\n",
       "      <td>False</td>\n",
       "      <td>False</td>\n",
       "      <td>False</td>\n",
       "      <td>False</td>\n",
       "      <td>False</td>\n",
       "    </tr>\n",
       "    <tr>\n",
       "      <th>1</th>\n",
       "      <td>False</td>\n",
       "      <td>False</td>\n",
       "      <td>False</td>\n",
       "      <td>False</td>\n",
       "      <td>False</td>\n",
       "      <td>False</td>\n",
       "      <td>False</td>\n",
       "      <td>False</td>\n",
       "    </tr>\n",
       "    <tr>\n",
       "      <th>2</th>\n",
       "      <td>False</td>\n",
       "      <td>False</td>\n",
       "      <td>False</td>\n",
       "      <td>False</td>\n",
       "      <td>False</td>\n",
       "      <td>False</td>\n",
       "      <td>False</td>\n",
       "      <td>False</td>\n",
       "    </tr>\n",
       "    <tr>\n",
       "      <th>3</th>\n",
       "      <td>False</td>\n",
       "      <td>False</td>\n",
       "      <td>False</td>\n",
       "      <td>False</td>\n",
       "      <td>False</td>\n",
       "      <td>False</td>\n",
       "      <td>False</td>\n",
       "      <td>False</td>\n",
       "    </tr>\n",
       "    <tr>\n",
       "      <th>4</th>\n",
       "      <td>False</td>\n",
       "      <td>False</td>\n",
       "      <td>False</td>\n",
       "      <td>False</td>\n",
       "      <td>False</td>\n",
       "      <td>False</td>\n",
       "      <td>False</td>\n",
       "      <td>False</td>\n",
       "    </tr>\n",
       "    <tr>\n",
       "      <th>...</th>\n",
       "      <td>...</td>\n",
       "      <td>...</td>\n",
       "      <td>...</td>\n",
       "      <td>...</td>\n",
       "      <td>...</td>\n",
       "      <td>...</td>\n",
       "      <td>...</td>\n",
       "      <td>...</td>\n",
       "    </tr>\n",
       "    <tr>\n",
       "      <th>150495</th>\n",
       "      <td>False</td>\n",
       "      <td>False</td>\n",
       "      <td>False</td>\n",
       "      <td>False</td>\n",
       "      <td>False</td>\n",
       "      <td>False</td>\n",
       "      <td>False</td>\n",
       "      <td>False</td>\n",
       "    </tr>\n",
       "    <tr>\n",
       "      <th>150496</th>\n",
       "      <td>False</td>\n",
       "      <td>False</td>\n",
       "      <td>False</td>\n",
       "      <td>False</td>\n",
       "      <td>False</td>\n",
       "      <td>False</td>\n",
       "      <td>False</td>\n",
       "      <td>False</td>\n",
       "    </tr>\n",
       "    <tr>\n",
       "      <th>150497</th>\n",
       "      <td>False</td>\n",
       "      <td>False</td>\n",
       "      <td>False</td>\n",
       "      <td>False</td>\n",
       "      <td>False</td>\n",
       "      <td>False</td>\n",
       "      <td>False</td>\n",
       "      <td>False</td>\n",
       "    </tr>\n",
       "    <tr>\n",
       "      <th>150498</th>\n",
       "      <td>False</td>\n",
       "      <td>False</td>\n",
       "      <td>False</td>\n",
       "      <td>False</td>\n",
       "      <td>False</td>\n",
       "      <td>False</td>\n",
       "      <td>False</td>\n",
       "      <td>False</td>\n",
       "    </tr>\n",
       "    <tr>\n",
       "      <th>150499</th>\n",
       "      <td>False</td>\n",
       "      <td>False</td>\n",
       "      <td>False</td>\n",
       "      <td>False</td>\n",
       "      <td>False</td>\n",
       "      <td>False</td>\n",
       "      <td>False</td>\n",
       "      <td>False</td>\n",
       "    </tr>\n",
       "  </tbody>\n",
       "</table>\n",
       "<p>150500 rows × 8 columns</p>\n",
       "</div>"
      ],
      "text/plain": [
       "        Unnamed: 0  Category  Descript  DayOfWeek   Date   Time  PdDistrict  \\\n",
       "0            False     False     False      False  False  False       False   \n",
       "1            False     False     False      False  False  False       False   \n",
       "2            False     False     False      False  False  False       False   \n",
       "3            False     False     False      False  False  False       False   \n",
       "4            False     False     False      False  False  False       False   \n",
       "...            ...       ...       ...        ...    ...    ...         ...   \n",
       "150495       False     False     False      False  False  False       False   \n",
       "150496       False     False     False      False  False  False       False   \n",
       "150497       False     False     False      False  False  False       False   \n",
       "150498       False     False     False      False  False  False       False   \n",
       "150499       False     False     False      False  False  False       False   \n",
       "\n",
       "        Resolution  \n",
       "0            False  \n",
       "1            False  \n",
       "2            False  \n",
       "3            False  \n",
       "4            False  \n",
       "...            ...  \n",
       "150495       False  \n",
       "150496       False  \n",
       "150497       False  \n",
       "150498       False  \n",
       "150499       False  \n",
       "\n",
       "[150500 rows x 8 columns]"
      ]
     },
     "execution_count": 52,
     "metadata": {},
     "output_type": "execute_result"
    }
   ],
   "source": [
    "subdf.isnull()"
   ]
  },
  {
   "cell_type": "code",
   "execution_count": 53,
   "metadata": {},
   "outputs": [
    {
     "data": {
      "text/plain": [
       "Unnamed: 0    False\n",
       "Category      False\n",
       "Descript      False\n",
       "DayOfWeek     False\n",
       "Date          False\n",
       "Time          False\n",
       "PdDistrict     True\n",
       "Resolution    False\n",
       "dtype: bool"
      ]
     },
     "execution_count": 53,
     "metadata": {},
     "output_type": "execute_result"
    }
   ],
   "source": [
    "subdf.isnull().any()"
   ]
  },
  {
   "cell_type": "code",
   "execution_count": 54,
   "metadata": {},
   "outputs": [
    {
     "data": {
      "text/plain": [
       "Unnamed: 0    0\n",
       "Category      0\n",
       "Descript      0\n",
       "DayOfWeek     0\n",
       "Date          0\n",
       "Time          0\n",
       "PdDistrict    1\n",
       "Resolution    0\n",
       "dtype: int64"
      ]
     },
     "execution_count": 54,
     "metadata": {},
     "output_type": "execute_result"
    }
   ],
   "source": [
    "subdf.isnull().sum()"
   ]
  },
  {
   "cell_type": "markdown",
   "metadata": {},
   "source": [
    "### 2) Estadística básica de los datos"
   ]
  },
  {
   "cell_type": "code",
   "execution_count": 124,
   "metadata": {},
   "outputs": [
    {
     "data": {
      "text/plain": [
       "(150500, 7)"
      ]
     },
     "execution_count": 124,
     "metadata": {},
     "output_type": "execute_result"
    }
   ],
   "source": [
    "df.shape"
   ]
  },
  {
   "cell_type": "code",
   "execution_count": 129,
   "metadata": {},
   "outputs": [
    {
     "data": {
      "text/plain": [
       "Index(['Category', 'Descript', 'DayOfWeek', 'Date', 'Time', 'PdDistrict',\n",
       "       'Resolution'],\n",
       "      dtype='object')"
      ]
     },
     "execution_count": 129,
     "metadata": {},
     "output_type": "execute_result"
    }
   ],
   "source": [
    "df.columns"
   ]
  },
  {
   "cell_type": "code",
   "execution_count": 128,
   "metadata": {},
   "outputs": [
    {
     "data": {
      "text/plain": [
       "Category      object\n",
       "Descript      object\n",
       "DayOfWeek     object\n",
       "Date          object\n",
       "Time          object\n",
       "PdDistrict    object\n",
       "Resolution    object\n",
       "dtype: object"
      ]
     },
     "execution_count": 128,
     "metadata": {},
     "output_type": "execute_result"
    }
   ],
   "source": [
    "df.dtypes"
   ]
  },
  {
   "cell_type": "code",
   "execution_count": 133,
   "metadata": {},
   "outputs": [
    {
     "data": {
      "text/html": [
       "<div>\n",
       "<style scoped>\n",
       "    .dataframe tbody tr th:only-of-type {\n",
       "        vertical-align: middle;\n",
       "    }\n",
       "\n",
       "    .dataframe tbody tr th {\n",
       "        vertical-align: top;\n",
       "    }\n",
       "\n",
       "    .dataframe thead th {\n",
       "        text-align: right;\n",
       "    }\n",
       "</style>\n",
       "<table border=\"1\" class=\"dataframe\">\n",
       "  <thead>\n",
       "    <tr style=\"text-align: right;\">\n",
       "      <th></th>\n",
       "      <th>Category</th>\n",
       "      <th>Day Of Week</th>\n",
       "      <th>Time</th>\n",
       "    </tr>\n",
       "  </thead>\n",
       "  <tbody>\n",
       "    <tr>\n",
       "      <th>0</th>\n",
       "      <td>0            WEAPON LAWS\n",
       "1            WEAPON L...</td>\n",
       "      <td>0           Friday\n",
       "1           Friday\n",
       "2       ...</td>\n",
       "      <td>0         11:00:00\n",
       "1         11:00:00\n",
       "2       ...</td>\n",
       "    </tr>\n",
       "  </tbody>\n",
       "</table>\n",
       "</div>"
      ],
      "text/plain": [
       "                                            Category  \\\n",
       "0  0            WEAPON LAWS\n",
       "1            WEAPON L...   \n",
       "\n",
       "                                         Day Of Week  \\\n",
       "0  0           Friday\n",
       "1           Friday\n",
       "2       ...   \n",
       "\n",
       "                                                Time  \n",
       "0  0         11:00:00\n",
       "1         11:00:00\n",
       "2       ...  "
      ]
     },
     "execution_count": 133,
     "metadata": {},
     "output_type": "execute_result"
    }
   ],
   "source": [
    "data= {'Category': [df.Category],\n",
    "    'Day Of Week':[df.DayOfWeek],\n",
    "       'Time':[df.Time]}\n",
    "df2=pd.DataFrame(data,columns=['Category','Day Of Week','Time'])\n",
    "df2"
   ]
  },
  {
   "cell_type": "markdown",
   "metadata": {},
   "source": [
    "Para una mejor comprensión y manipulación de los datos decidimos analizar nuestra basa de datos, obtuvimos las dimensiónes de nuestros datos, la cual, como podemos notar es bastante amplia, lo que nos ayuda a poder obtener mejores resultados; obtivimos el tipo de dato de cada categoría para tener una mejor visión de como podemos aprovecharlos en futuras operaciones o gráficos. "
   ]
  },
  {
   "cell_type": "markdown",
   "metadata": {},
   "source": [
    "### 3) Gráficas"
   ]
  },
  {
   "cell_type": "code",
   "execution_count": 119,
   "metadata": {},
   "outputs": [],
   "source": [
    "import matplotlib.pyplot as mpp\n",
    "import numpy as np\n",
    "import pandas as pd\n",
    "import seaborn as sbr\n",
    "import matplotlib.pyplot as plt\n",
    "import matplotlib.dates as mdates\n",
    "from datetime import datetime"
   ]
  },
  {
   "cell_type": "markdown",
   "metadata": {},
   "source": [
    "**Gráfica 1**"
   ]
  },
  {
   "cell_type": "code",
   "execution_count": 73,
   "metadata": {},
   "outputs": [
    {
     "data": {
      "text/plain": [
       "<matplotlib.axes._subplots.AxesSubplot at 0x16db8a30>"
      ]
     },
     "execution_count": 73,
     "metadata": {},
     "output_type": "execute_result"
    },
    {
     "data": {
      "image/png": "[encoded data removed]",
      "text/plain": [
       "<Figure size 432x288 with 1 Axes>"
      ]
     },
     "metadata": {},
     "output_type": "display_data"
    }
   ],
   "source": [
    "subdf['DayOfWeek'].value_counts().plot.bar()"
   ]
  },
  {
   "cell_type": "markdown",
   "metadata": {},
   "source": [
    "\n",
    "La gráfica nos dice que el mayor número de delitos no resueltos en el distrito de INGLESIDE suceden los días viernes.\n"
   ]
  },
  {
   "cell_type": "markdown",
   "metadata": {},
   "source": [
    "**Gráfica 2**"
   ]
  },
  {
   "cell_type": "code",
   "execution_count": 14,
   "metadata": {},
   "outputs": [
    {
     "data": {
      "text/plain": [
       "<matplotlib.axes._subplots.AxesSubplot at 0x13b69b9d6d0>"
      ]
     },
     "execution_count": 14,
     "metadata": {},
     "output_type": "execute_result"
    },
    {
     "data": {
      "image/png": "[encoded data removed]",
      "text/plain": [
       "<Figure size 432x288 with 1 Axes>"
      ]
     },
     "metadata": {
      "needs_background": "light"
     },
     "output_type": "display_data"
    }
   ],
   "source": [
    "subdf['Date'].value_counts().head(20).sort_index().plot.bar()"
   ]
  },
  {
   "cell_type": "markdown",
   "metadata": {},
   "source": [
    "La gráfica nos indica el comportamiento de los delitos de las primeras 20 muestras (de nuestra base de datos filtrada) del distrito de INGLESIDE en diferentes fechas. Observamos que la mayoría de los delitos cometidos (dentro de la muestra) han sucedido el 01 de enero de 2016."
   ]
  },
  {
   "cell_type": "markdown",
   "metadata": {},
   "source": [
    "**Gráfica 3**"
   ]
  },
  {
   "cell_type": "code",
   "execution_count": 15,
   "metadata": {},
   "outputs": [
    {
     "data": {
      "text/plain": [
       "<matplotlib.axes._subplots.AxesSubplot at 0x13b699f8fa0>"
      ]
     },
     "execution_count": 15,
     "metadata": {},
     "output_type": "execute_result"
    },
    {
     "data": {
      "image/png": "[encoded data removed]",
      "text/plain": [
       "<Figure size 432x288 with 1 Axes>"
      ]
     },
     "metadata": {
      "needs_background": "light"
     },
     "output_type": "display_data"
    }
   ],
   "source": [
    "subdf['DayOfWeek'].value_counts().sort_index().plot.line()"
   ]
  },
  {
   "cell_type": "markdown",
   "metadata": {},
   "source": [
    "Esta gráfica (al igual que la gráfica 1) nos muestra el comportamiento del número de delitos cometidos en la semana en el distrito INGLESIDE. Es una vista diferente de los mismos datos."
   ]
  },
  {
   "cell_type": "markdown",
   "metadata": {},
   "source": [
    "**Gráfica 4**"
   ]
  },
  {
   "cell_type": "code",
   "execution_count": 116,
   "metadata": {},
   "outputs": [
    {
     "data": {
      "text/plain": [
       "Text(0.5, 0.98, 'Distribución de crimen por día')"
      ]
     },
     "execution_count": 116,
     "metadata": {},
     "output_type": "execute_result"
    },
    {
     "data": {
      "image/png": "[encoded data removed]",
      "text/plain": [
       "<Figure size 648x216 with 1 Axes>"
      ]
     },
     "metadata": {},
     "output_type": "display_data"
    }
   ],
   "source": [
    "fig, axs = mpp.subplots(1, figsize=(9, 3), sharey=True)\n",
    "axs.scatter(df['DayOfWeek'].head(40), df['Category'].head(40))\n",
    "fig.suptitle('Distribución de crimen por día')\n"
   ]
  },
  {
   "cell_type": "markdown",
   "metadata": {},
   "source": [
    "Utilizando la base de datos original con 40 muestras, obtuvimos que tipo de delitos son mas frecuentes en los días de la semana, y como podemos observar los días Sábado son los días en los que ocurre más variedad de crímenes realizados. "
   ]
  },
  {
   "cell_type": "markdown",
   "metadata": {},
   "source": [
    "## Conclusión\n",
    "\n",
    "Despues de ver el resultado de nuestros datos y hacer un poco de investigación podemos decir lo siguiente.\n",
    "Con ayuda de las graficas podemos decir que los fines de semana, especificamente los días Viernes y Sabado son los días en que mas ocurren delitos, decidimos realizar una investigación para poder entender el por qué de este fenómeno, obteniendo la siguiente información:\n",
    "\n",
    "\"De acuerdo con un estudio realizado en la Universidad de Arizona y la Universidad de Purdue, las agresiones y los asaltos aumentan los dias viernes y sabado, este fenómeno se puede explicar señalando que estos días son los que la gente suele salir mas a la calle, del mismo modo se destaca que es probable que el alcohol esté involucrado, lo cual, puede aumentar el riego de agresión\".\n",
    "\n",
    "Fuente: https://www.elespanol.com/ciencia/investigacion/20181218/dias-calendario-crimenes-violentos/352715069_0.html\n",
    "\n",
    "Gracias a esto tenemos una mejor compresión del por qué de este fenómeno de crímenes durante el fin de semana.\n",
    "\n",
    "Así mismo obtuvimos una mejor visualización de los delitos mas frecuentes, realizamos un gráfico con la distribución de crímenes por día y a pesar de que obtuvimos como resultado el día Viernes como el dia mas propenso a sufrir un crimen, notamos que el día Sabado es el día con mas variedad de crimen, haciendolo también un día considerable como \"peligroso\" en la ciudad de San Francisco. Por lo tanto, es necesario aumentar la seguridad ese día para mejorar la tranquilidad de los ciudadanos y reducir la tasa de delitos."
   ]
  },
  {
   "cell_type": "code",
   "execution_count": null,
   "metadata": {},
   "outputs": [],
   "source": []
  }
 ],
 "metadata": {
  "kernelspec": {
   "display_name": "Python 3",
   "language": "python",
   "name": "python3"
  },
  "language_info": {
   "codemirror_mode": {
    "name": "ipython",
    "version": 3
   },
   "file_extension": ".py",
   "mimetype": "text/x-python",
   "name": "python",
   "nbconvert_exporter": "python",
   "pygments_lexer": "ipython3",
   "version": "3.8.3"
  }
 },
 "nbformat": 4,
 "nbformat_minor": 4
}
