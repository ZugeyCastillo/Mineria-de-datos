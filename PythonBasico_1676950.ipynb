{
 "cells": [
  {
   "cell_type": "markdown",
   "metadata": {},
   "source": [
    "### Ejercicio 1  \n",
    "Realiza una variable con tu matricula y realiza una secuencia de imprimir con tu nombre y tu matricula concatenados."
   ]
  },
  {
   "cell_type": "code",
   "execution_count": 257,
   "metadata": {},
   "outputs": [
    {
     "name": "stdout",
     "output_type": "stream",
     "text": [
      "Nombre: Zuky, matrícula: 1676950\n"
     ]
    }
   ],
   "source": [
    "mat = 1676950\n",
    "nombre = \"Zuky\"\n",
    "\n",
    "print(\"Nombre: \" + nombre + \", matrícula: \" + str(mat))"
   ]
  },
  {
   "cell_type": "markdown",
   "metadata": {},
   "source": [
    "### Ejercicio 2  \n",
    "Pidiendo el input del usuario pide dos números y crea una pequeña calculadora con los operadores básicos de suma, resta, multiplicación, división, y exponente."
   ]
  },
  {
   "cell_type": "code",
   "execution_count": 3,
   "metadata": {},
   "outputs": [
    {
     "name": "stdout",
     "output_type": "stream",
     "text": [
      "Introduce un número para operar: 2\n",
      "Introduce otro número para operar: 2\n",
      "\n",
      "Calculadora básica\n",
      "\n",
      "1. Suma\n",
      "2. Resta\n",
      "3. Multiplicación\n",
      "4. División\n",
      "5. Exponente\n",
      "6. Salir\n",
      "\n",
      "Ingrese una opción: 7\n",
      "\n",
      "Opción incorrecta, vuelve a intentarlo\n",
      "\n",
      "Calculadora básica\n",
      "\n",
      "1. Suma\n",
      "2. Resta\n",
      "3. Multiplicación\n",
      "4. División\n",
      "5. Exponente\n",
      "6. Salir\n",
      "\n",
      "Ingrese una opción: 6\n"
     ]
    }
   ],
   "source": [
    "a = int(input(\"Introduce un número para operar: \"))\n",
    "b = int(input(\"Introduce otro número para operar: \"))\n",
    "\n",
    "op = \"0\"\n",
    "while (op != \"6\"):\n",
    "    print(\"\\nCalculadora básica\\n\")\n",
    "    print(\"1. Suma\\n2. Resta\\n3. Multiplicación\\n4. División\\n5. Exponente\\n6. Salir\\n\")\n",
    "    op = input(\"Ingrese una opción: \")\n",
    "    if (op == \"1\"):\n",
    "        r = a + b\n",
    "        print(\"\\nLa suma de \" + str(a) + \" + \" + str(b) + \" es igual a \" + str(r))\n",
    "    elif (op == \"2\"):\n",
    "        r = a - b\n",
    "        print(\"\\nLa diferencia de \" + str(a) + \" - \" + str(b) + \" es igual a \" + str(r))\n",
    "    elif (op == \"3\"):\n",
    "        r = a*b\n",
    "        print(\"\\nEl producto de \" + str(a) + \" * \" + str(b) + \" es igual a \" + str(r))\n",
    "    elif (op == \"4\"):\n",
    "        r = a/b\n",
    "        print(\"\\nEl cociente de \" + str(a) + \" / \" + str(b) + \" es igual a \" + str(r))\n",
    "    elif (op == \"5\"):\n",
    "        r = a**b\n",
    "        print(\"\\nLa potencia de \" + str(a) + \" ^ \" + str(b) + \" es igual a \" + str(r))\n",
    "    elif (op == \"6\"):\n",
    "        exit\n",
    "    else:\n",
    "        print(\"\\nOpción incorrecta, vuelve a intentarlo\")"
   ]
  },
  {
   "cell_type": "markdown",
   "metadata": {},
   "source": [
    "### Ejercicio 3\n",
    "Con loop while o for, realiza una lista de 10 numeros multiplos de 3, y después realiza una función de loop que sume todos los números dentro del arreglo."
   ]
  },
  {
   "cell_type": "code",
   "execution_count": 137,
   "metadata": {},
   "outputs": [
    {
     "name": "stdout",
     "output_type": "stream",
     "text": [
      "3\n",
      "6\n",
      "9\n",
      "12\n",
      "15\n",
      "18\n",
      "21\n",
      "24\n",
      "27\n",
      "30\n",
      "\n",
      "La suma de esta serie es: 165\n"
     ]
    }
   ],
   "source": [
    "suma = 0\n",
    "for i in range(3,33,3):\n",
    "    print(i)\n",
    "    suma = i + suma\n",
    "print(\"\\nLa suma de esta serie es: \" + str(suma))"
   ]
  },
  {
   "cell_type": "markdown",
   "metadata": {},
   "source": [
    "### Ejercicio 4  \n",
    "- Con una función de if else, revisar si un número es par o es impar.  "
   ]
  },
  {
   "cell_type": "code",
   "execution_count": 138,
   "metadata": {},
   "outputs": [
    {
     "name": "stdout",
     "output_type": "stream",
     "text": [
      "Ingresa un número: 3\n",
      "\n",
      "El número 3 es impar\n"
     ]
    }
   ],
   "source": [
    "n = int(input(\"Ingresa un número: \"))\n",
    "\n",
    "if (n % 2 == 0):\n",
    "    print(\"\\nEl número \" + str(n) + \" es par\")\n",
    "else:\n",
    "    print(\"\\nEl número \" + str(n) + \" es impar\")"
   ]
  },
  {
   "cell_type": "markdown",
   "metadata": {},
   "source": [
    "- Con una función de if else, revisar si un número es primo o no."
   ]
  },
  {
   "cell_type": "code",
   "execution_count": 266,
   "metadata": {},
   "outputs": [
    {
     "name": "stdout",
     "output_type": "stream",
     "text": [
      "El número 3 es primo\n"
     ]
    }
   ],
   "source": [
    "# https://medium.com/@eddydecena/validando-si-un-n%C3%BAmero-es-primo-en-python-a622cf6b4363\n",
    "\n",
    "def primo(num):\n",
    "    if num < 1:\n",
    "        return False\n",
    "    elif num == 2:\n",
    "        return True\n",
    "    else:\n",
    "        for i in range(2, num):\n",
    "            if num % i == 0:\n",
    "                return False\n",
    "        return True\n",
    "num = 3\n",
    "if primo(num):\n",
    "    print(\"El número \" + str(num) + \" es primo\")\n",
    "else:\n",
    "    print(\"El número \" + str(num) + \" no es primo\")"
   ]
  },
  {
   "cell_type": "markdown",
   "metadata": {},
   "source": [
    "### Ejercicio 5  \n",
    "Utilizando diferentes clases en python, crea una calculadora con los operadores básicos de suma, resta, multiplicación, división, y exponente."
   ]
  },
  {
   "cell_type": "code",
   "execution_count": 43,
   "metadata": {},
   "outputs": [
    {
     "name": "stdout",
     "output_type": "stream",
     "text": [
      "Ingresa un número: 1\n",
      "Ingresa otro número: 2\n",
      "\n",
      "Calculadora básica\n",
      "\n",
      "1. Suma\n",
      "2. Resta\n",
      "3. Multiplicación\n",
      "4. División\n",
      "5. Exponente\n",
      "6. Salir\n",
      "\n",
      "Ingrese una opción: 6\n"
     ]
    }
   ],
   "source": [
    "class Calculadora:\n",
    "    a = 0.0\n",
    "    b = 0.0\n",
    "    r = 0.0\n",
    "    \n",
    "    def datos(self):\n",
    "        self.a = input(\"Ingresa un número: \")\n",
    "        self.a = float(self.a)\n",
    "        self.b = input(\"Ingresa otro número: \")\n",
    "        self.b = float(self.b)\n",
    "    \n",
    "class Operaciones:\n",
    "    \n",
    "    def suma(self, a, b):\n",
    "        self.r = calcu.a + calcu.b\n",
    "        print(\"\\nLa suma de \" + str(calcu.a) + \" + \" + str(calcu.b) + \" es igual a \" + str(self.r))\n",
    "\n",
    "    def resta(self, a, b):\n",
    "        self.r = calcu.a - calcu.b\n",
    "        print(\"\\nLa diferencia de \" + str(calcu.a) + \" - \" + str(calcu.b) + \" es igual a \" + str(self.r))\n",
    "    \n",
    "    def multiplicacion(self, a, b):\n",
    "        self.r = calcu.a*calcu.b\n",
    "        print(\"\\nEl producto de \" + str(calcu.a) + \" * \" + str(calcu.b) + \" es igual a \" + str(self.r))\n",
    "    \n",
    "    def division(self, a, b):\n",
    "        self.r = calcu.a/calcu.b\n",
    "        print(\"\\nEl cociente de \" + str(calcu.a) + \" / \" + str(calcu.b) + \" es igual a \" + str(self.r))\n",
    "    \n",
    "    def exponente(self, a, b):\n",
    "        self.r = calcu.a**calcu.b\n",
    "        print(\"\\nLa potencia de \" + str(calcu.a) + \" ^ \" + str(calcu.b) + \" es igual a \" + str(self.r))\n",
    "        \n",
    "calcu = Calculadora()\n",
    "calcu.datos()\n",
    "ope = Operaciones()\n",
    "\n",
    "op = \"0\"\n",
    "while (op != \"6\"):\n",
    "    print(\"\\nCalculadora básica\\n\")\n",
    "    print(\"1. Suma\\n2. Resta\\n3. Multiplicación\\n4. División\\n5. Exponente\\n6. Salir\\n\")\n",
    "    op = input(\"Ingrese una opción: \")\n",
    "    if (op == \"1\"):\n",
    "        ope.suma(calcu.a, calcu.b)\n",
    "    elif (op == \"2\"):\n",
    "        ope.resta(calcu.a, calcu.b)\n",
    "    elif (op == \"3\"):\n",
    "        ope.multiplicacion(calcu.a, calcu.b)\n",
    "    elif (op == \"4\"):\n",
    "        ope.division(calcu.a, calcu.b)\n",
    "    elif (op == \"5\"):\n",
    "        ope.exponente(calcu.a, calcu.b)\n",
    "    elif (op == \"6\"):\n",
    "        exit\n",
    "    else:\n",
    "        print(\"\\nOpción incorrecta, vuelve a intentarlo\")"
   ]
  },
  {
   "cell_type": "markdown",
   "metadata": {},
   "source": [
    "### Ejercicios con estructuras básicas de python"
   ]
  },
  {
   "cell_type": "markdown",
   "metadata": {},
   "source": [
    "### Tuplas"
   ]
  },
  {
   "cell_type": "markdown",
   "metadata": {},
   "source": [
    "- **Crear una variable flotante, integer, boleana y compleja e imprimir el tipo de variable que es.**"
   ]
  },
  {
   "cell_type": "code",
   "execution_count": 52,
   "metadata": {},
   "outputs": [
    {
     "name": "stdout",
     "output_type": "stream",
     "text": [
      "\n",
      "a es una variable de tipo <class 'float'>\n",
      "b es una variable de tipo <class 'int'>\n",
      "c es una variable de tipo <class 'bool'>\n",
      "d es una variable de tipo <class 'complex'>\n"
     ]
    }
   ],
   "source": [
    "a = 0.7\n",
    "b = 10\n",
    "c = True\n",
    "d = 2j\n",
    "\n",
    "print(\"\\na \" + \"es una variable de tipo \" + str(type(a)))\n",
    "print(\"b \" + \"es una variable de tipo \" + str(type(b)))\n",
    "print(\"c \" + \"es una variable de tipo \" + str(type(c)))\n",
    "print(\"d \" + \"es una variable de tipo \" + str(type(d)))"
   ]
  },
  {
   "cell_type": "markdown",
   "metadata": {},
   "source": [
    "- **Crear una tupla con valores enteros imprimir el primer y ultimo valor.**"
   ]
  },
  {
   "cell_type": "code",
   "execution_count": 76,
   "metadata": {},
   "outputs": [
    {
     "name": "stdout",
     "output_type": "stream",
     "text": [
      "\n",
      "Primer valor: 1\n",
      "Último valor: 6\n"
     ]
    }
   ],
   "source": [
    "tupla = (1,2,3,4,5,6)\n",
    "a = len(tupla)\n",
    "\n",
    "print(\"\\nPrimer valor: \" + str(tupla[0]))\n",
    "print(\"Último valor: \" + str(tupla[a-1]))"
   ]
  },
  {
   "cell_type": "markdown",
   "metadata": {},
   "source": [
    "- **Añadir 3 valores de string a la tupla.**"
   ]
  },
  {
   "cell_type": "code",
   "execution_count": 82,
   "metadata": {},
   "outputs": [
    {
     "name": "stdout",
     "output_type": "stream",
     "text": [
      "(1, 2, 3, 4, 5, 6, 'siete', 'ocho', 'nueve')\n"
     ]
    }
   ],
   "source": [
    "lista = list(tupla)\n",
    "lista.append(\"siete\")\n",
    "lista.append(\"ocho\")\n",
    "lista.append(\"nueve\")\n",
    "tupla = tuple(lista)\n",
    "print(tupla)"
   ]
  },
  {
   "cell_type": "markdown",
   "metadata": {},
   "source": [
    "- **Verificar si una variable existe dentro de la tupla.**"
   ]
  },
  {
   "cell_type": "code",
   "execution_count": 258,
   "metadata": {},
   "outputs": [
    {
     "name": "stdout",
     "output_type": "stream",
     "text": [
      "\n",
      "La variable existe\n"
     ]
    }
   ],
   "source": [
    "var = \"nueve\"\n",
    "if var in tupla:\n",
    "    print(\"\\nLa variable existe\")\n",
    "else:\n",
    "    print(\"La variable no existe\")"
   ]
  },
  {
   "cell_type": "markdown",
   "metadata": {},
   "source": [
    "### Listas"
   ]
  },
  {
   "cell_type": "markdown",
   "metadata": {},
   "source": [
    "- **Crear una lista con 40 elementos aleatorios enteros.**"
   ]
  },
  {
   "cell_type": "code",
   "execution_count": 239,
   "metadata": {},
   "outputs": [
    {
     "name": "stdout",
     "output_type": "stream",
     "text": [
      "[21, 30, 67, 13, 19, 38, 99, 93, 45, 85, 69, 71, 23, 64, 29, 53, 49, 88, 44, 31, 48, 17, 5, 54, 79, 3, 52, 36, 39, 65, 11, 68, 7, 66, 9, 58, 77, 37, 98, 14]\n"
     ]
    }
   ],
   "source": [
    "# https://pynative.com/python-random-sample/#:~:text=unique%20random%20numbers%3F-,Use%20random.,range()%20function%20and%20random.\n",
    "\n",
    "import random as rm\n",
    "\n",
    "L = []\n",
    "L = rm.sample(range(100), 40)\n",
    "print(L)"
   ]
  },
  {
   "cell_type": "markdown",
   "metadata": {},
   "source": [
    "NOTA. La función rm.randint(1,100) *trae número repetidos*  \n",
    "      La función rm.sample(1,10)   *no tiene duplicados*"
   ]
  },
  {
   "cell_type": "markdown",
   "metadata": {},
   "source": [
    "- **Con una funcion (def) crear dos listas nuevas a partir de la lista creada por numeros aleatorios, en la cual en una esten los elementos pares, y en la otra los elementos impares.**"
   ]
  },
  {
   "cell_type": "code",
   "execution_count": 161,
   "metadata": {},
   "outputs": [
    {
     "name": "stdout",
     "output_type": "stream",
     "text": [
      "\n",
      "Lista de numeros pares: \n",
      "[26, 70, 0, 24, 22, 18, 98, 52, 12, 64, 36, 68, 4, 28, 56, 6, 60, 86, 20, 10, 8, 72, 92, 84]\n",
      "\n",
      "Lista de numeros impares: \n",
      "[41, 39, 21, 81, 85, 67, 59, 29, 43, 69, 51, 61, 63, 97, 19]\n"
     ]
    }
   ],
   "source": [
    "par = []\n",
    "impar = []\n",
    "\n",
    "def creaListas(lista):\n",
    "    for elemento in lista:\n",
    "        if (elemento % 2 == 0):\n",
    "            par.append(elemento)\n",
    "        else:\n",
    "            impar.append(elemento)\n",
    "        \n",
    "    print(\"\\nLista de numeros pares: \")\n",
    "    print(par)\n",
    "    print(\"\\nLista de numeros impares: \")\n",
    "    print(impar)\n",
    "\n",
    "creaListas(L)"
   ]
  },
  {
   "cell_type": "markdown",
   "metadata": {},
   "source": [
    "- **Crear dos variables con la longitud de ambas listas nuevas e imprimir las variables.**"
   ]
  },
  {
   "cell_type": "code",
   "execution_count": 162,
   "metadata": {},
   "outputs": [
    {
     "name": "stdout",
     "output_type": "stream",
     "text": [
      "La longitud de la lista de números pares es: 24\n",
      "La longitud de la lista de números impares es: 15\n"
     ]
    }
   ],
   "source": [
    "tamañolistapar = len(par)\n",
    "tamañolistaimpar = len(impar)\n",
    "\n",
    "print(\"La longitud de la lista de números pares es: \" + str(tamañolistapar))\n",
    "print(\"La longitud de la lista de números impares es: \" + str(tamañolistaimpar))"
   ]
  },
  {
   "cell_type": "markdown",
   "metadata": {},
   "source": [
    "- **Ordenar los elementos de la lista par de mayor a menor, y los de la lista impar de menor a mayor.**"
   ]
  },
  {
   "cell_type": "code",
   "execution_count": 163,
   "metadata": {},
   "outputs": [
    {
     "name": "stdout",
     "output_type": "stream",
     "text": [
      "Lista par descendiente: [98, 92, 86, 84, 72, 70, 68, 64, 60, 56, 52, 36, 28, 26, 24, 22, 20, 18, 12, 10, 8, 6, 4, 0]\n",
      "Lista impar ascendiente: [19, 21, 29, 39, 41, 43, 51, 59, 61, 63, 67, 69, 81, 85, 97]\n"
     ]
    }
   ],
   "source": [
    "listapar = par\n",
    "listapar.sort()\n",
    "listapar.reverse()\n",
    "listaimpar = impar\n",
    "listaimpar.sort()\n",
    "print(\"Lista par descendiente: \" + str(listapar))\n",
    "print(\"Lista impar ascendiente: \" + str(listaimpar))"
   ]
  },
  {
   "cell_type": "markdown",
   "metadata": {},
   "source": [
    "- **Utilizar al menos cuatro de las funciones de listas en python en la lista original de 40 elementos.**"
   ]
  },
  {
   "cell_type": "code",
   "execution_count": 175,
   "metadata": {},
   "outputs": [
    {
     "name": "stdout",
     "output_type": "stream",
     "text": [
      "\n",
      "El número 98 es el más grande de la lista\n",
      "El número 0 es el más pequeño de la lista\n",
      "La suma de todos los números de la lista es 1841\n",
      "La media de la lista es 47.21\n"
     ]
    }
   ],
   "source": [
    "maximo = max(L)\n",
    "minimo = min(L)\n",
    "suma = sum(L)\n",
    "prom = suma/len(L)\n",
    "print(\"\\nEl número \" + str(maximo) + \" es el más grande de la lista\")\n",
    "print(\"El número \" + str(minimo) + \" es el más pequeño de la lista\")\n",
    "print(\"La suma de todos los números de la lista es \" + str(suma))\n",
    "print(\"La media de la lista es %.2f\" %(prom))"
   ]
  },
  {
   "cell_type": "markdown",
   "metadata": {},
   "source": [
    "### Diccionarios"
   ]
  },
  {
   "cell_type": "markdown",
   "metadata": {},
   "source": [
    "- **Crear un diccionario de 6 personas que conozcas con su primer nombre y su edad.**"
   ]
  },
  {
   "cell_type": "code",
   "execution_count": 241,
   "metadata": {},
   "outputs": [
    {
     "name": "stdout",
     "output_type": "stream",
     "text": [
      "{1: {'Nombre': 'Andrea', 'Edad': 21}, 2: {'Nombre': 'Yerittza', 'Edad': 22}, 3: {'Nombre': 'Aideth', 'Edad': 22}, 4: {'Nombre': 'Janeth', 'Edad': 22}, 5: {'Nombre': 'Jaciel', 'Edad': 26}, 6: {'Nombre': 'Martín', 'Edad': 22}}\n"
     ]
    }
   ],
   "source": [
    "diccionario = { \n",
    "    1: {\"Nombre\": \"Andrea\", \"Edad\": 21},\n",
    "    2: {\"Nombre\": \"Yerittza\", \"Edad\": 22},\n",
    "    3: {\"Nombre\": \"Aideth\", \"Edad\": 22},\n",
    "    4: {\"Nombre\": \"Janeth\", \"Edad\": 22},\n",
    "    5: {\"Nombre\": \"Jaciel\", \"Edad\": 26},\n",
    "    6: {\"Nombre\": \"Martín\", \"Edad\": 22}\n",
    "}\n",
    "\n",
    "print(diccionario)"
   ]
  },
  {
   "cell_type": "markdown",
   "metadata": {},
   "source": [
    "- **Crear una lista con los valores de la edad y reacomodar la lista de menor a mayor valor.**"
   ]
  },
  {
   "cell_type": "code",
   "execution_count": 246,
   "metadata": {},
   "outputs": [
    {
     "name": "stdout",
     "output_type": "stream",
     "text": [
      "\n",
      "Lista de edades: \n",
      "[21, 22, 22, 22, 22, 26]\n"
     ]
    }
   ],
   "source": [
    "# https://ellibrodepython.com/diccionarios-en-python\n",
    "\n",
    "edades = []\n",
    "\n",
    "for i in diccionario:\n",
    "    edades.append(diccionario[i].get(\"Edad\"))\n",
    "    \n",
    "edades.sort()\n",
    "print(\"\\nLista de edades: \")\n",
    "print(edades)"
   ]
  },
  {
   "cell_type": "markdown",
   "metadata": {},
   "source": [
    "- **Usando el diccionario y un loop, imprimir solo los nombres.**"
   ]
  },
  {
   "cell_type": "code",
   "execution_count": 247,
   "metadata": {},
   "outputs": [
    {
     "name": "stdout",
     "output_type": "stream",
     "text": [
      "Andrea\n",
      "Yerittza\n",
      "Aideth\n",
      "Janeth\n",
      "Jaciel\n",
      "Martín\n"
     ]
    }
   ],
   "source": [
    "for i in diccionario:\n",
    "    print(diccionario[i].get(\"Nombre\"))"
   ]
  },
  {
   "cell_type": "markdown",
   "metadata": {},
   "source": [
    "- **Añadir dos personas nuevas a tu diccionario, incluyendo edad.**"
   ]
  },
  {
   "cell_type": "code",
   "execution_count": 248,
   "metadata": {},
   "outputs": [
    {
     "name": "stdout",
     "output_type": "stream",
     "text": [
      "{1: {'Nombre': 'Andrea', 'Edad': 21}, 2: {'Nombre': 'Yerittza', 'Edad': 22}, 3: {'Nombre': 'Aideth', 'Edad': 22}, 4: {'Nombre': 'Janeth', 'Edad': 22}, 5: {'Nombre': 'Jaciel', 'Edad': 26}, 6: {'Nombre': 'Martín', 'Edad': 22}, 7: {'Nombre': 'Gisel', 'Edad': 15}, 8: {'Nombre': 'Briana', 'Edad': 23}}\n"
     ]
    }
   ],
   "source": [
    "diccionario[len(diccionario)+1] = {\"Nombre\": \"Gisel\", \"Edad\": 15}\n",
    "diccionario[len(diccionario)+1] = {\"Nombre\": \"Briana\", \"Edad\": 23}\n",
    "\n",
    "print(diccionario)"
   ]
  },
  {
   "cell_type": "markdown",
   "metadata": {},
   "source": [
    "### Sets"
   ]
  },
  {
   "cell_type": "markdown",
   "metadata": {},
   "source": [
    "- **Crea un set con 100 numeros aleatorios enteros del 1 al 25.**"
   ]
  },
  {
   "cell_type": "code",
   "execution_count": 250,
   "metadata": {},
   "outputs": [
    {
     "name": "stdout",
     "output_type": "stream",
     "text": [
      "Lista de 100 numeros:\n",
      "[9, 20, 14, 24, 3, 1, 5, 13, 13, 10, 15, 23, 5, 13, 22, 3, 1, 11, 6, 12, 23, 15, 12, 11, 5, 14, 14, 25, 8, 9, 22, 22, 17, 24, 19, 20, 1, 15, 21, 21, 16, 15, 11, 8, 24, 18, 16, 8, 22, 8, 10, 18, 14, 16, 12, 1, 3, 24, 8, 1, 22, 6, 4, 16, 7, 8, 8, 7, 2, 15, 5, 24, 3, 5, 3, 1, 10, 12, 20, 17, 1, 18, 4, 2, 19, 3, 15, 10, 22, 8, 17, 12, 22, 11, 13, 12, 21, 11, 25, 3]\n",
      "\n",
      "Lista convertida a set:\n",
      "{1, 2, 3, 4, 5, 6, 7, 8, 9, 10, 11, 12, 13, 14, 15, 16, 17, 18, 19, 20, 21, 22, 23, 24, 25}\n"
     ]
    }
   ],
   "source": [
    "# https://www.programiz.com/python-programming/set\n",
    "\n",
    "import random as rm\n",
    "\n",
    "L = []\n",
    "for i in range(100):\n",
    "    L.append(rm.randint(1, 25))\n",
    "print(\"Lista de 100 numeros:\")\n",
    "print(L)\n",
    "\n",
    "S = set(L)\n",
    "\n",
    "print(\"\\nLista convertida a set:\")\n",
    "print(S)"
   ]
  },
  {
   "cell_type": "markdown",
   "metadata": {},
   "source": [
    "- **Comprueba la longitud de tu set.**"
   ]
  },
  {
   "cell_type": "code",
   "execution_count": 252,
   "metadata": {},
   "outputs": [
    {
     "name": "stdout",
     "output_type": "stream",
     "text": [
      "Longitud del set: 25\n"
     ]
    }
   ],
   "source": [
    "print(\"Longitud del set: \" + str(len(S)))"
   ]
  },
  {
   "cell_type": "markdown",
   "metadata": {},
   "source": [
    "- **Crea una lista de 5 numeros aleatorios del 1 al 10 y comprueba si cada valor aparece en el set inicial.**"
   ]
  },
  {
   "cell_type": "code",
   "execution_count": 254,
   "metadata": {},
   "outputs": [
    {
     "name": "stdout",
     "output_type": "stream",
     "text": [
      "1 esta en el set\n",
      "9 esta en el set\n",
      "4 esta en el set\n",
      "8 esta en el set\n",
      "8 esta en el set\n",
      "\n",
      "Lista nueva: [1, 9, 4, 8, 8]\n"
     ]
    }
   ],
   "source": [
    "L2 = []\n",
    "\n",
    "for i in range(5):\n",
    "    numero = rm.randint(1, 10)\n",
    "    L2.append(numero)\n",
    "    if numero in S:\n",
    "        print(str(numero) + \" esta en el set\")\n",
    "    else:\n",
    "        print(str(numero) + \" no esta en el set\")\n",
    "print(\"\\nLista nueva: \" + str(L2))"
   ]
  }
 ],
 "metadata": {
  "kernelspec": {
   "display_name": "Python 3",
   "language": "python",
   "name": "python3"
  },
  "language_info": {
   "codemirror_mode": {
    "name": "ipython",
    "version": 3
   },
   "file_extension": ".py",
   "mimetype": "text/x-python",
   "name": "python",
   "nbconvert_exporter": "python",
   "pygments_lexer": "ipython3",
   "version": "3.8.3"
  }
 },
 "nbformat": 4,
 "nbformat_minor": 4
}
